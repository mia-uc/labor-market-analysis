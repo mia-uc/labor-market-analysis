{
 "cells": [
  {
   "cell_type": "code",
   "execution_count": 1,
   "metadata": {},
   "outputs": [],
   "source": [
    "# !rm -r labor-market-analysis\n",
    "# !git clone https://github.com/mia-uc/labor-market-analysis.git\n",
    "# %cd labor-market-analysis\n",
    "\n",
    "# # !pip install -r requirements.txt\n",
    "# !pip install openai pandas"
   ]
  },
  {
   "cell_type": "code",
   "execution_count": 2,
   "metadata": {},
   "outputs": [],
   "source": [
    "import pandas as pd\n",
    "import numpy as  np"
   ]
  },
  {
   "cell_type": "code",
   "execution_count": 3,
   "metadata": {},
   "outputs": [],
   "source": [
    "df = pd.read_excel('../asserts/archive_2/Technology Skills.xlsx')"
   ]
  },
  {
   "cell_type": "code",
   "execution_count": 4,
   "metadata": {},
   "outputs": [
    {
     "data": {
      "text/plain": [
       "Index(['O*NET-SOC Code', 'Title', 'Example', 'Commodity Code',\n",
       "       'Commodity Title', 'Hot Technology'],\n",
       "      dtype='object')"
      ]
     },
     "execution_count": 4,
     "metadata": {},
     "output_type": "execute_result"
    }
   ],
   "source": [
    "df.columns"
   ]
  },
  {
   "cell_type": "code",
   "execution_count": 5,
   "metadata": {},
   "outputs": [
    {
     "data": {
      "text/html": [
       "<div>\n",
       "<style scoped>\n",
       "    .dataframe tbody tr th:only-of-type {\n",
       "        vertical-align: middle;\n",
       "    }\n",
       "\n",
       "    .dataframe tbody tr th {\n",
       "        vertical-align: top;\n",
       "    }\n",
       "\n",
       "    .dataframe thead th {\n",
       "        text-align: right;\n",
       "    }\n",
       "</style>\n",
       "<table border=\"1\" class=\"dataframe\">\n",
       "  <thead>\n",
       "    <tr style=\"text-align: right;\">\n",
       "      <th></th>\n",
       "      <th>O*NET-SOC Code</th>\n",
       "      <th>Title</th>\n",
       "      <th>Example</th>\n",
       "      <th>Commodity Code</th>\n",
       "      <th>Commodity Title</th>\n",
       "      <th>Hot Technology</th>\n",
       "    </tr>\n",
       "  </thead>\n",
       "  <tbody>\n",
       "    <tr>\n",
       "      <th>0</th>\n",
       "      <td>11-1011.00</td>\n",
       "      <td>Chief Executives</td>\n",
       "      <td>Adobe Systems Adobe Acrobat</td>\n",
       "      <td>43232202</td>\n",
       "      <td>Document management software</td>\n",
       "      <td>Y</td>\n",
       "    </tr>\n",
       "    <tr>\n",
       "      <th>1</th>\n",
       "      <td>11-1011.00</td>\n",
       "      <td>Chief Executives</td>\n",
       "      <td>AdSense Tracker</td>\n",
       "      <td>43232306</td>\n",
       "      <td>Data base user interface and query software</td>\n",
       "      <td>N</td>\n",
       "    </tr>\n",
       "    <tr>\n",
       "      <th>2</th>\n",
       "      <td>11-1011.00</td>\n",
       "      <td>Chief Executives</td>\n",
       "      <td>Atlassian JIRA</td>\n",
       "      <td>43232201</td>\n",
       "      <td>Content workflow software</td>\n",
       "      <td>Y</td>\n",
       "    </tr>\n",
       "    <tr>\n",
       "      <th>3</th>\n",
       "      <td>11-1011.00</td>\n",
       "      <td>Chief Executives</td>\n",
       "      <td>Blackbaud The Raiser's Edge</td>\n",
       "      <td>43232303</td>\n",
       "      <td>Customer relationship management CRM software</td>\n",
       "      <td>Y</td>\n",
       "    </tr>\n",
       "    <tr>\n",
       "      <th>4</th>\n",
       "      <td>11-1011.00</td>\n",
       "      <td>Chief Executives</td>\n",
       "      <td>ComputerEase Construction Accounting</td>\n",
       "      <td>43231601</td>\n",
       "      <td>Accounting software</td>\n",
       "      <td>N</td>\n",
       "    </tr>\n",
       "  </tbody>\n",
       "</table>\n",
       "</div>"
      ],
      "text/plain": [
       "  O*NET-SOC Code             Title                               Example   \n",
       "0     11-1011.00  Chief Executives           Adobe Systems Adobe Acrobat  \\\n",
       "1     11-1011.00  Chief Executives                       AdSense Tracker   \n",
       "2     11-1011.00  Chief Executives                        Atlassian JIRA   \n",
       "3     11-1011.00  Chief Executives           Blackbaud The Raiser's Edge   \n",
       "4     11-1011.00  Chief Executives  ComputerEase Construction Accounting   \n",
       "\n",
       "   Commodity Code                                Commodity Title   \n",
       "0        43232202                   Document management software  \\\n",
       "1        43232306    Data base user interface and query software   \n",
       "2        43232201                      Content workflow software   \n",
       "3        43232303  Customer relationship management CRM software   \n",
       "4        43231601                            Accounting software   \n",
       "\n",
       "  Hot Technology  \n",
       "0              Y  \n",
       "1              N  \n",
       "2              Y  \n",
       "3              Y  \n",
       "4              N  "
      ]
     },
     "execution_count": 5,
     "metadata": {},
     "output_type": "execute_result"
    }
   ],
   "source": [
    "df.head()"
   ]
  },
  {
   "cell_type": "code",
   "execution_count": 6,
   "metadata": {},
   "outputs": [
    {
     "data": {
      "text/plain": [
       "array(['!Trak-it Solutions !Trak-it HR', '100 Plus Hatch Pattern Library',\n",
       "       '1003 Uniform Residential Loan Application', ..., 'yieldWerx',\n",
       "       'z-Tree', 'zkipster'], dtype=object)"
      ]
     },
     "execution_count": 6,
     "metadata": {},
     "output_type": "execute_result"
    }
   ],
   "source": [
    "s1 = df['Example'].unique()\n",
    "s1.sort()\n",
    "s1"
   ]
  },
  {
   "cell_type": "code",
   "execution_count": 7,
   "metadata": {},
   "outputs": [
    {
     "data": {
      "text/html": [
       "<div>\n",
       "<style scoped>\n",
       "    .dataframe tbody tr th:only-of-type {\n",
       "        vertical-align: middle;\n",
       "    }\n",
       "\n",
       "    .dataframe tbody tr th {\n",
       "        vertical-align: top;\n",
       "    }\n",
       "\n",
       "    .dataframe thead th {\n",
       "        text-align: right;\n",
       "    }\n",
       "</style>\n",
       "<table border=\"1\" class=\"dataframe\">\n",
       "  <thead>\n",
       "    <tr style=\"text-align: right;\">\n",
       "      <th></th>\n",
       "      <th>Skill</th>\n",
       "    </tr>\n",
       "  </thead>\n",
       "  <tbody>\n",
       "    <tr>\n",
       "      <th>0</th>\n",
       "      <td>supply chain engineering\\n</td>\n",
       "    </tr>\n",
       "    <tr>\n",
       "      <th>1</th>\n",
       "      <td>bullet\\n</td>\n",
       "    </tr>\n",
       "    <tr>\n",
       "      <th>2</th>\n",
       "      <td>commutations\\n</td>\n",
       "    </tr>\n",
       "    <tr>\n",
       "      <th>3</th>\n",
       "      <td>pay equity\\n</td>\n",
       "    </tr>\n",
       "    <tr>\n",
       "      <th>4</th>\n",
       "      <td>student retention\\n</td>\n",
       "    </tr>\n",
       "  </tbody>\n",
       "</table>\n",
       "</div>"
      ],
      "text/plain": [
       "                        Skill\n",
       "0  supply chain engineering\\n\n",
       "1                    bullet\\n\n",
       "2              commutations\\n\n",
       "3                pay equity\\n\n",
       "4         student retention\\n"
      ]
     },
     "execution_count": 7,
     "metadata": {},
     "output_type": "execute_result"
    }
   ],
   "source": [
    "df = pd.read_csv('../asserts/archive_2/skills.csv')\n",
    "df.head()"
   ]
  },
  {
   "cell_type": "code",
   "execution_count": 8,
   "metadata": {},
   "outputs": [
    {
     "data": {
      "text/plain": [
       "array([\"'05\", \"'06\", \"'08\", ..., '３dテクスチャ', '３dモデリング', '３dライティング'],\n",
       "      dtype=object)"
      ]
     },
     "execution_count": 8,
     "metadata": {},
     "output_type": "execute_result"
    }
   ],
   "source": [
    "s2 = df['Skill'].str.strip().unique()\n",
    "s2.sort()\n",
    "s2\n"
   ]
  },
  {
   "cell_type": "code",
   "execution_count": 9,
   "metadata": {},
   "outputs": [
    {
     "data": {
      "text/html": [
       "<div>\n",
       "<style scoped>\n",
       "    .dataframe tbody tr th:only-of-type {\n",
       "        vertical-align: middle;\n",
       "    }\n",
       "\n",
       "    .dataframe tbody tr th {\n",
       "        vertical-align: top;\n",
       "    }\n",
       "\n",
       "    .dataframe thead th {\n",
       "        text-align: right;\n",
       "    }\n",
       "</style>\n",
       "<table border=\"1\" class=\"dataframe\">\n",
       "  <thead>\n",
       "    <tr style=\"text-align: right;\">\n",
       "      <th></th>\n",
       "      <th>Text</th>\n",
       "      <th>Label</th>\n",
       "    </tr>\n",
       "  </thead>\n",
       "  <tbody>\n",
       "    <tr>\n",
       "      <th>0</th>\n",
       "      <td>thompson drop</td>\n",
       "      <td>1</td>\n",
       "    </tr>\n",
       "    <tr>\n",
       "      <th>1</th>\n",
       "      <td>description</td>\n",
       "      <td>0</td>\n",
       "    </tr>\n",
       "    <tr>\n",
       "      <th>2</th>\n",
       "      <td>hiring - bulk</td>\n",
       "      <td>1</td>\n",
       "    </tr>\n",
       "    <tr>\n",
       "      <th>3</th>\n",
       "      <td>send</td>\n",
       "      <td>0</td>\n",
       "    </tr>\n",
       "    <tr>\n",
       "      <th>4</th>\n",
       "      <td>epi 6</td>\n",
       "      <td>1</td>\n",
       "    </tr>\n",
       "  </tbody>\n",
       "</table>\n",
       "</div>"
      ],
      "text/plain": [
       "            Text  Label\n",
       "0  thompson drop      1\n",
       "1    description      0\n",
       "2  hiring - bulk      1\n",
       "3           send      0\n",
       "4          epi 6      1"
      ]
     },
     "execution_count": 9,
     "metadata": {},
     "output_type": "execute_result"
    }
   ],
   "source": [
    "df = pd.read_csv('../asserts/archive_2/all_data_skill_and_nonskills/all_data_skill_and_nonskills.csv')\n",
    "df.head()"
   ]
  },
  {
   "cell_type": "code",
   "execution_count": 10,
   "metadata": {},
   "outputs": [
    {
     "data": {
      "text/plain": [
       "array([' clinical data analyst', '#expertise of multi plant handling#',\n",
       "       '&amp;', ..., 'zyxel', '\\x8dóù\\x8cô \\x8cô¬¾ïù', '¾ñ´¾ïâ\\x8f» '],\n",
       "      dtype=object)"
      ]
     },
     "execution_count": 10,
     "metadata": {},
     "output_type": "execute_result"
    }
   ],
   "source": [
    "s3 = df[df['Label'] == 1]['Text'].dropna().unique()\n",
    "s3.sort()\n",
    "s3\n"
   ]
  },
  {
   "cell_type": "code",
   "execution_count": 11,
   "metadata": {},
   "outputs": [],
   "source": [
    "import re\n",
    "final = np.concatenate([s1, s2])\n",
    "final = [x for x in final if not re.fullmatch(r'[\\d\\.\\+\\'\\-xad]*', x)]\n",
    "final = [x for x in final if re.search(r'[a-zA-Z]+', x)]\n",
    "\n",
    "for i, skill in enumerate(final):\n",
    "    tskill = skill[0]\n",
    "    for j in range(1, len(skill)-1):\n",
    "        if (\n",
    "            re.fullmatch(r'[a-zA-Z]+', skill[j-1: j+1]) \n",
    "            and skill[j-1] == skill[j-1].lower()\n",
    "            and skill[j] == skill[j].upper()\n",
    "        ):\n",
    "            tskill += ' '\n",
    "        \n",
    "        tskill += skill[j]\n",
    "    \n",
    "    final[i] = tskill + skill[-1]\n",
    "\n"
   ]
  },
  {
   "cell_type": "code",
   "execution_count": 12,
   "metadata": {},
   "outputs": [
    {
     "data": {
      "text/html": [
       "<div>\n",
       "<style scoped>\n",
       "    .dataframe tbody tr th:only-of-type {\n",
       "        vertical-align: middle;\n",
       "    }\n",
       "\n",
       "    .dataframe tbody tr th {\n",
       "        vertical-align: top;\n",
       "    }\n",
       "\n",
       "    .dataframe thead th {\n",
       "        text-align: right;\n",
       "    }\n",
       "</style>\n",
       "<table border=\"1\" class=\"dataframe\">\n",
       "  <thead>\n",
       "    <tr style=\"text-align: right;\">\n",
       "      <th></th>\n",
       "      <th>skills</th>\n",
       "    </tr>\n",
       "  </thead>\n",
       "  <tbody>\n",
       "    <tr>\n",
       "      <th>0</th>\n",
       "      <td>!trak-it solutions !trak-it hr</td>\n",
       "    </tr>\n",
       "    <tr>\n",
       "      <th>8824</th>\n",
       "      <td>(isc)2</td>\n",
       "    </tr>\n",
       "    <tr>\n",
       "      <th>8825</th>\n",
       "      <td>.com</td>\n",
       "    </tr>\n",
       "    <tr>\n",
       "      <th>8826</th>\n",
       "      <td>.htaccess</td>\n",
       "    </tr>\n",
       "    <tr>\n",
       "      <th>8827</th>\n",
       "      <td>.net</td>\n",
       "    </tr>\n",
       "    <tr>\n",
       "      <th>...</th>\n",
       "      <td>...</td>\n",
       "    </tr>\n",
       "    <tr>\n",
       "      <th>46544</th>\n",
       "      <td>équipement photo</td>\n",
       "    </tr>\n",
       "    <tr>\n",
       "      <th>46545</th>\n",
       "      <td>équipement vidéo</td>\n",
       "    </tr>\n",
       "    <tr>\n",
       "      <th>46546</th>\n",
       "      <td>３dテクスチャ</td>\n",
       "    </tr>\n",
       "    <tr>\n",
       "      <th>46547</th>\n",
       "      <td>３dモデリング</td>\n",
       "    </tr>\n",
       "    <tr>\n",
       "      <th>46548</th>\n",
       "      <td>３dライティング</td>\n",
       "    </tr>\n",
       "  </tbody>\n",
       "</table>\n",
       "<p>46161 rows × 1 columns</p>\n",
       "</div>"
      ],
      "text/plain": [
       "                               skills\n",
       "0      !trak-it solutions !trak-it hr\n",
       "8824                           (isc)2\n",
       "8825                             .com\n",
       "8826                        .htaccess\n",
       "8827                             .net\n",
       "...                               ...\n",
       "46544                équipement photo\n",
       "46545                équipement vidéo\n",
       "46546                         ３dテクスチャ\n",
       "46547                         ３dモデリング\n",
       "46548                        ３dライティング\n",
       "\n",
       "[46161 rows x 1 columns]"
      ]
     },
     "execution_count": 12,
     "metadata": {},
     "output_type": "execute_result"
    }
   ],
   "source": [
    "df = pd.DataFrame({'skills': [x.lower() for x in final]})\n",
    "df.set_index('skills')\n",
    "df = df.drop_duplicates()\n",
    "df = df.dropna()\n",
    "# df = df.set_index('skills')\n",
    "df = df.sort_values(by='skills')  \n",
    "df"
   ]
  },
  {
   "cell_type": "code",
   "execution_count": 13,
   "metadata": {},
   "outputs": [],
   "source": [
    "\n",
    "df.to_csv('../asserts/skills.csv', index=False)"
   ]
  },
  {
   "cell_type": "code",
   "execution_count": 14,
   "metadata": {},
   "outputs": [],
   "source": [
    "from collections import Counter\n",
    "\n",
    "companies = map(lambda x: x[0], filter(lambda x: len(x) > 2, map(lambda x: x.split(' '), df['skills'])))\n",
    "companies = Counter(companies)\n",
    "companies = [name for name, x in companies.items() if x > 20]\n",
    "\n",
    "df = pd.DataFrame({'name': companies})\n",
    "df.to_csv('../asserts/companies.csv', index=False)"
   ]
  },
  {
   "cell_type": "code",
   "execution_count": 15,
   "metadata": {},
   "outputs": [
    {
     "data": {
      "text/plain": [
       "<re.Match object; span=(0, 1), match='c'>"
      ]
     },
     "execution_count": 15,
     "metadata": {},
     "output_type": "execute_result"
    }
   ],
   "source": [
    "re.search(r'[a-zA-Z]', \"computerease construction accounting\")\n"
   ]
  },
  {
   "cell_type": "code",
   "execution_count": null,
   "metadata": {},
   "outputs": [],
   "source": []
  }
 ],
 "metadata": {
  "kernelspec": {
   "display_name": "ai-env",
   "language": "python",
   "name": "ai-env"
  },
  "language_info": {
   "codemirror_mode": {
    "name": "ipython",
    "version": 3
   },
   "file_extension": ".py",
   "mimetype": "text/x-python",
   "name": "python",
   "nbconvert_exporter": "python",
   "pygments_lexer": "ipython3",
   "version": "3.11.2"
  },
  "orig_nbformat": 4
 },
 "nbformat": 4,
 "nbformat_minor": 2
}
