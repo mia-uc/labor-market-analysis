{
  "cells": [
    {
      "cell_type": "code",
      "execution_count": 1,
      "metadata": {
        "colab": {
          "base_uri": "https://localhost:8080/"
        },
        "id": "WN9modRJeqUD",
        "outputId": "0ef9db9f-1c80-4eec-d986-5a52de18c65f"
      },
      "outputs": [
        {
          "name": "stdout",
          "output_type": "stream",
          "text": [
            "rm: cannot remove 'labor-market-analysis': No such file or directory\n",
            "Cloning into 'labor-market-analysis'...\n",
            "remote: Enumerating objects: 194, done.\u001b[K\n",
            "remote: Counting objects: 100% (194/194), done.\u001b[K\n",
            "remote: Compressing objects: 100% (125/125), done.\u001b[K\n",
            "remote: Total 194 (delta 96), reused 151 (delta 60), pack-reused 0\u001b[K\n",
            "Receiving objects: 100% (194/194), 55.41 KiB | 2.22 MiB/s, done.\n",
            "Resolving deltas: 100% (96/96), done.\n",
            "/content/labor-market-analysis\n"
          ]
        }
      ],
      "source": [
        "!rm -r labor-market-analysis\n",
        "!git clone https://github.com/mia-uc/labor-market-analysis.git\n",
        "%cd labor-market-analysis\n",
        "\n",
        "!pip install -r requirements.txt"
      ]
    },
    {
      "cell_type": "code",
      "execution_count": null,
      "metadata": {},
      "outputs": [],
      "source": [
        "import os\n",
        "\n",
        "os.environ['MONGO_CONN_STRING'] = '....'\n",
        "os.environ['MONGO_DB'] = '....'\n",
        "\n",
        "os.environ['GetOnBoard-Cookie'] = '....'\n",
        "os.environ['GetOnBoard-X-CLIENT-ID'] = '....'\n",
        "os.environ['GetOnBoard-X-CSRF-Token'] = '....'\n",
        "os.environ['GetOnBoard-X-NewRelic-ID'] = '....'"
      ]
    },
    {
      "cell_type": "code",
      "execution_count": 7,
      "metadata": {
        "id": "jRtLBrvEf4ML"
      },
      "outputs": [],
      "source": [
        "from src.scrapers.getonboard.scraper import GetOnBoardScraper\n",
        "\n",
        "scraper = GetOnBoardScraper()"
      ]
    },
    {
      "cell_type": "code",
      "execution_count": 9,
      "metadata": {
        "colab": {
          "base_uri": "https://localhost:8080/"
        },
        "id": "MHiEgqxaf5tb",
        "outputId": "e8dc0760-f825-4ab8-f382-dc4a5a2f6cfb"
      },
      "outputs": [
        {
          "name": "stdout",
          "output_type": "stream",
          "text": [
            "------------------- Laborum --------------------------\n"
          ]
        }
      ],
      "source": [
        "scraper.save_all(\n",
        "    n_page=-1,\n",
        "    skips=0,\n",
        "    parallel = True,\n",
        "    # filter_condition = lambda job: job['published_at'] == '2023-05-02 00:00:00'\n",
        ")"
      ]
    },
    {
      "cell_type": "code",
      "execution_count": null,
      "metadata": {},
      "outputs": [],
      "source": [
        "# scraper.update(force=True, parallel = True)"
      ]
    },
    {
      "cell_type": "code",
      "execution_count": null,
      "metadata": {},
      "outputs": [],
      "source": [
        "from src.scrapers.getonboard.clean_pipeline import GetOnBoardCleanPipeline\n",
        "from src.etl_process.jobs_db_center import JobsDBCenter\n",
        "\n",
        "\n",
        "center = JobsDBCenter()\n",
        "client_pipeline = GetOnBoardCleanPipeline()"
      ]
    },
    {
      "cell_type": "code",
      "execution_count": null,
      "metadata": {},
      "outputs": [],
      "source": [
        "client_pipeline.run(center)"
      ]
    },
    {
      "cell_type": "code",
      "execution_count": null,
      "metadata": {
        "id": "_XJ3A8Oen0cr"
      },
      "outputs": [],
      "source": []
    }
  ],
  "metadata": {
    "colab": {
      "provenance": []
    },
    "kernelspec": {
      "display_name": "Python 3",
      "name": "python3"
    },
    "language_info": {
      "name": "python"
    }
  },
  "nbformat": 4,
  "nbformat_minor": 0
}
