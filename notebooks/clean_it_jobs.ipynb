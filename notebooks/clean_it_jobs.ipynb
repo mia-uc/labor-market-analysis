{
 "cells": [
  {
   "cell_type": "code",
   "execution_count": null,
   "metadata": {},
   "outputs": [],
   "source": [
    "!rm -r labor-market-analysis\n",
    "!git clone https://github.com/mia-uc/labor-market-analysis.git\n",
    "%cd labor-market-analysis\n",
    "\n",
    "!pip install -r requirements.txt\n",
    "!pip install pandas"
   ]
  }
 ],
 "metadata": {
  "language_info": {
   "name": "python"
  },
  "orig_nbformat": 4
 },
 "nbformat": 4,
 "nbformat_minor": 2
}
