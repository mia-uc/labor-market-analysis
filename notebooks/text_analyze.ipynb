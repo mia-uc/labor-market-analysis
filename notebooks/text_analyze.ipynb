{
 "cells": [
  {
   "cell_type": "code",
   "execution_count": 116,
   "metadata": {},
   "outputs": [],
   "source": [
    "!rm -r labor-market-analysis\n",
    "!git clone https://github.com/mia-uc/labor-market-analysis.git\n",
    "%cd labor-market-analysis\n",
    "\n",
    "# !pip install -r requirements.txt"
   ]
  },
  {
   "cell_type": "code",
   "execution_count": 1,
   "metadata": {},
   "outputs": [],
   "source": [
    "import re\n",
    "\n",
    "def build_regex(tags: list[str], dividers = [r'\\s', r'\\.', r'\\-']):\n",
    "    regex = []\n",
    "    regex_div = f\"[{'|'.join(dividers)}]*\"\n",
    "\n",
    "    for tag in tags:\n",
    "        ntag, index = '', 0\n",
    "        while index < len(tag):\n",
    "            replace = False\n",
    "            while tag[index] in [' ', '.', '-']:\n",
    "                 index += 1\n",
    "                 replace = True\n",
    "\n",
    "           \n",
    "            if replace or (\n",
    "                index != 0 and \n",
    "                # Check case changes  \n",
    "                tag[index] == tag[index].upper() and \n",
    "                tag[index - 1] == tag[index - 1].lower()\n",
    "            ):\n",
    "                ntag += regex_div\n",
    "            \n",
    "            ntag += tag[index]\n",
    "            index += 1\n",
    "\n",
    "        # Check the open and the end because \n",
    "        # substr of alpha-numeric words can't be detected           \n",
    "        regex.append('(?<!\\w|\\d)' + ntag + '(?!\\w|\\d)')\n",
    "\n",
    "    return '|'.join(regex)\n"
   ]
  },
  {
   "cell_type": "code",
   "execution_count": 123,
   "metadata": {},
   "outputs": [],
   "source": [
    "job_tags = [\n",
    "    'back-end', \n",
    "    'front-end', \n",
    "    'full-stack', \n",
    "    'cloud-computing',\n",
    "    'data-science',\n",
    "    'data-engineer',\n",
    "    'data-analyzer',\n",
    "    'QA',\n",
    "    'DevOps',\n",
    "    'DevOpsSec',\n",
    "    'CyberSecurity'\n",
    "]"
   ]
  },
  {
   "cell_type": "code",
   "execution_count": 118,
   "metadata": {},
   "outputs": [],
   "source": [
    "job_tags_regex = build_regex(job_tags)\n",
    "job_tags_pattern = re.compile(job_tags_regex, re.IGNORECASE)"
   ]
  },
  {
   "cell_type": "code",
   "execution_count": 3,
   "metadata": {},
   "outputs": [],
   "source": [
    "import pandas as pd\n",
    "\n",
    "lp = pd.read_csv('../asserts/programming_languages.csv')\n",
    "\n",
    "refactors = [x.replace('++', '-plus-plus') for x in lp['name'] if '++' in x]\n",
    "refactors = [x.replace('#', '-sharp') for x in lp['name'] if '#' in x]\n",
    "refactors = [x.replace('*', '-star') for x in lp['name'] if '*' in x]\n",
    "\n",
    "lp_regex = build_regex(lp['name'].to_list() + refactors)\n",
    "lp_pattern = re.compile(lp_regex, re.IGNORECASE)\n"
   ]
  },
  {
   "cell_type": "code",
   "execution_count": 120,
   "metadata": {},
   "outputs": [
    {
     "data": {
      "text/plain": [
       "['frontend', 'back-end', 'Full-Stack', 'backend', 'backEnd']"
      ]
     },
     "execution_count": 120,
     "metadata": {},
     "output_type": "execute_result"
    }
   ],
   "source": []
  },
  {
   "cell_type": "code",
   "execution_count": null,
   "metadata": {},
   "outputs": [],
   "source": []
  }
 ],
 "metadata": {
  "kernelspec": {
   "display_name": "ai-env",
   "language": "python",
   "name": "ai-env"
  },
  "language_info": {
   "codemirror_mode": {
    "name": "ipython",
    "version": 3
   },
   "file_extension": ".py",
   "mimetype": "text/x-python",
   "name": "python",
   "nbconvert_exporter": "python",
   "pygments_lexer": "ipython3",
   "version": "3.11.2"
  },
  "orig_nbformat": 4
 },
 "nbformat": 4,
 "nbformat_minor": 2
}
